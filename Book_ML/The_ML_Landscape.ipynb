{
 "cells": [
  {
   "cell_type": "markdown",
   "metadata": {},
   "source": [
    "## Book\n",
    "# Hands-on Machine Learning with Scikit-Learn, Keras, and TensorFlow\n",
    "\n",
    "\n",
    "**Author** [Aurélien Géron](https://github.com/ageron \"Author's GitHub\")"
   ]
  },
  {
   "cell_type": "markdown",
   "metadata": {},
   "source": [
    "# Part I - The Fundamentals of Machine Learning Neural Networks and Deep Learning"
   ]
  },
  {
   "cell_type": "markdown",
   "metadata": {},
   "source": [
    "### [Federal University of Paraíba](https://sigaa.ufpb.br/sigaa/public/programa/portal.jsf?lc=pt_BR&id=1875 \"Programa de Pós-Graduação em Economia Aplicada\")"
   ]
  },
  {
   "cell_type": "markdown",
   "metadata": {},
   "source": [
    "**Teachers:** [Aléssio Tony](http://lema.ufpb.br/pesquisador/alessio-almeida \"LEMA - Laboratório de Economia e Modelagem Aplicada\") and [Hilton Ramalho](http://lema.ufpb.br/pesquisador/hilton-ramalho \"LEMA - Laboratório de Economia e Modelagem Aplicada\")"
   ]
  },
  {
   "cell_type": "markdown",
   "metadata": {},
   "source": [
    "## [Gerrio Barbosa](http://lema.ufpb.br/pesquisador/gerrio-barbosa \"LEMA - Laboratório de Economia e Modelagem Aplicada\")"
   ]
  },
  {
   "cell_type": "markdown",
   "metadata": {},
   "source": [
    "# Chapter 1 \n",
    "# The Machine Learning Landscape"
   ]
  },
  {
   "cell_type": "markdown",
   "metadata": {},
   "source": [
    "#### Conceito de ML \n",
    "\n",
    "- Machine Learning é a ciência (e arte) da programação de computadores para que eles possam aprender com os dados.\n",
    "\n",
    "- O aprendizado de máquina é o campo de estudo que dá aos computadores a capacidade de aprender sem serem explicitamente programados (Arthur Samuel, 1959)."
   ]
  },
  {
   "cell_type": "markdown",
   "metadata": {},
   "source": [
    "## Types of Machine Learning Systems\n",
    "\n",
    "- Tem muitos sistemas de ML que é útil classificá-los em categorias amplas com base em:\n",
    "     \n",
    "- Vamos analisar cada um desse critérios:"
   ]
  },
  {
   "cell_type": "markdown",
   "metadata": {},
   "source": [
    "## Supervised/Unsupervised Learning\n",
    "\n",
    "- Se são ou não treinados sob supervisão de humanos:\n",
    "    - **Apredizagem supervisionada**\n",
    "    - **Aprendizagem não-supervisionada**\n",
    "    - **Aprendizagem semi-supervisionada**\n",
    "    - **Apredizagem de reforço**"
   ]
  },
  {
   "cell_type": "markdown",
   "metadata": {},
   "source": [
    "### Supervised learning\n",
    "\n",
    "- No aprendizado supervisionado, os dados de treinamento que você alimenta para o algoritmo incluem as soluções desejadas, chamadas de rótulos (Figura 1-5)."
   ]
  },
  {
   "cell_type": "markdown",
   "metadata": {},
   "source": [
    "![all](figura1-5.png \"Title\")"
   ]
  },
  {
   "cell_type": "markdown",
   "metadata": {},
   "source": [
    "- Uma tarefa típica de aprendizado supervisionado é a **_classification_**. O filtro de spam é um bom exemplo disso: ele é treinado com muitos e-mails de exemplo, juntamente com sua **_class_** (spam ou não-spam), e precisa aprender a classificar novos e-mails."
   ]
  },
  {
   "cell_type": "markdown",
   "metadata": {},
   "source": [
    "- Outra tarefa típica é prever um valor numérico **_target_**, como o preço de um carro, dado um conjunto de **_features_** (quilometragem, idade, marca, etc.) chamados **_predictors_**. Esse tipo de tarefa é chamado de **_regressão_** (Figura 1-6). 1 Para treinar o sistema, você precisa dar muitos exemplos de carros, incluindo os preditores e os rótulos (ou seja, os preços).\n",
    "  - Em ML um **_attribute_** é um tipo de dado (por exemplo, quilometragem), enquanto um **_feature_** tem vários significados dependendo do contexto -- mas geralmente significa um **_attribute_** mais seu valor (por exemplo, quilometragem = 15.000). Muitas pessoas usam as palavras **_attribute_** e **_feature_** de forma intercambiável."
   ]
  },
  {
   "cell_type": "markdown",
   "metadata": {},
   "source": [
    "![all](figura1-6.png \"Title\")"
   ]
  },
  {
   "cell_type": "code",
   "execution_count": null,
   "metadata": {},
   "outputs": [],
   "source": []
  }
 ],
 "metadata": {
  "kernelspec": {
   "display_name": "Python 3",
   "language": "python",
   "name": "python3"
  },
  "language_info": {
   "codemirror_mode": {
    "name": "ipython",
    "version": 3
   },
   "file_extension": ".py",
   "mimetype": "text/x-python",
   "name": "python",
   "nbconvert_exporter": "python",
   "pygments_lexer": "ipython3",
   "version": "3.6.8"
  }
 },
 "nbformat": 4,
 "nbformat_minor": 2
}
