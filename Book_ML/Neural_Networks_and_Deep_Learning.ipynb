{
 "cells": [
  {
   "cell_type": "markdown",
   "metadata": {},
   "source": [
    "## Book\n",
    "# Hands-on Machine Learning with Scikit-Learn, Keras, and TensorFlow\n",
    "\n",
    "\n",
    "**Author** [Aurélien Géron](https://github.com/ageron \"Author's GitHub\")"
   ]
  },
  {
   "cell_type": "markdown",
   "metadata": {},
   "source": [
    "# Part II - Neural Networks and Deep Learning"
   ]
  },
  {
   "cell_type": "markdown",
   "metadata": {},
   "source": [
    "### [Federal University of Paraíba](https://sigaa.ufpb.br/sigaa/public/programa/portal.jsf?lc=pt_BR&id=1875 \"Programa de Pós-Graduação em Economia Aplicada\")"
   ]
  },
  {
   "cell_type": "markdown",
   "metadata": {},
   "source": [
    "**Teachers:** [Aléssio Tony](http://lema.ufpb.br/pesquisador/alessio-almeida \"LEMA - Laboratório de Economia e Modelagem Aplicada\") and [Hilton Ramalho](http://lema.ufpb.br/pesquisador/hilton-ramalho \"LEMA - Laboratório de Economia e Modelagem Aplicada\")"
   ]
  },
  {
   "cell_type": "markdown",
   "metadata": {},
   "source": [
    "## [Gerrio Barbosa](http://lema.ufpb.br/pesquisador/gerrio-barbosa \"LEMA - Laboratório de Economia e Modelagem Aplicada\")"
   ]
  },
  {
   "cell_type": "markdown",
   "metadata": {},
   "source": []
  },
  {
   "cell_type": "code",
   "execution_count": null,
   "metadata": {},
   "outputs": [],
   "source": []
  },
  {
   "cell_type": "code",
   "execution_count": null,
   "metadata": {},
   "outputs": [],
   "source": []
  },
  {
   "cell_type": "code",
   "execution_count": null,
   "metadata": {},
   "outputs": [],
   "source": []
  },
  {
   "cell_type": "code",
   "execution_count": null,
   "metadata": {},
   "outputs": [],
   "source": []
  },
  {
   "cell_type": "code",
   "execution_count": null,
   "metadata": {},
   "outputs": [],
   "source": []
  }
 ],
 "metadata": {
  "kernelspec": {
   "display_name": "Python 3",
   "language": "python",
   "name": "python3"
  },
  "language_info": {
   "codemirror_mode": {
    "name": "ipython",
    "version": 3
   },
   "file_extension": ".py",
   "mimetype": "text/x-python",
   "name": "python",
   "nbconvert_exporter": "python",
   "pygments_lexer": "ipython3",
   "version": "3.6.8"
  }
 },
 "nbformat": 4,
 "nbformat_minor": 2
}
